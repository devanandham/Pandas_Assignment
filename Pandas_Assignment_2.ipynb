{
  "nbformat": 4,
  "nbformat_minor": 0,
  "metadata": {
    "colab": {
      "name": "Pandas_Assignment 2.ipynb",
      "provenance": [],
      "collapsed_sections": []
    },
    "kernelspec": {
      "name": "python3",
      "display_name": "Python 3"
    },
    "language_info": {
      "name": "python"
    }
  },
  "cells": [
    {
      "cell_type": "code",
      "metadata": {
        "id": "D7Psak8UDey9"
      },
      "source": [
        "import pandas as pd"
      ],
      "execution_count": 12,
      "outputs": []
    },
    {
      "cell_type": "code",
      "metadata": {
        "colab": {
          "base_uri": "https://localhost:8080/",
          "height": 643
        },
        "id": "gJzC20OLE9os",
        "outputId": "bf4da2d4-f157-46e1-90ee-41dc2d65a722"
      },
      "source": [
        "df=pd.read_excel(\"Data Analysis.xlsx\")\n",
        "df"
      ],
      "execution_count": 13,
      "outputs": [
        {
          "output_type": "execute_result",
          "data": {
            "text/html": [
              "<div>\n",
              "<style scoped>\n",
              "    .dataframe tbody tr th:only-of-type {\n",
              "        vertical-align: middle;\n",
              "    }\n",
              "\n",
              "    .dataframe tbody tr th {\n",
              "        vertical-align: top;\n",
              "    }\n",
              "\n",
              "    .dataframe thead th {\n",
              "        text-align: right;\n",
              "    }\n",
              "</style>\n",
              "<table border=\"1\" class=\"dataframe\">\n",
              "  <thead>\n",
              "    <tr style=\"text-align: right;\">\n",
              "      <th></th>\n",
              "      <th>Invoice ID</th>\n",
              "      <th>Branch</th>\n",
              "      <th>City</th>\n",
              "      <th>Customer type</th>\n",
              "      <th>Gender</th>\n",
              "      <th>Product line</th>\n",
              "      <th>Unit price</th>\n",
              "      <th>Quantity</th>\n",
              "      <th>Tax 5%</th>\n",
              "      <th>Total</th>\n",
              "      <th>Day</th>\n",
              "      <th>Date</th>\n",
              "      <th>Time</th>\n",
              "      <th>Payment</th>\n",
              "      <th>cogs</th>\n",
              "      <th>gross margin percentage</th>\n",
              "      <th>gross income</th>\n",
              "      <th>Rating</th>\n",
              "    </tr>\n",
              "  </thead>\n",
              "  <tbody>\n",
              "    <tr>\n",
              "      <th>0</th>\n",
              "      <td>860-79-0874</td>\n",
              "      <td>C</td>\n",
              "      <td>Naypyitaw</td>\n",
              "      <td>Member</td>\n",
              "      <td>Female</td>\n",
              "      <td>Fashion accessories</td>\n",
              "      <td>99.30</td>\n",
              "      <td>10</td>\n",
              "      <td>49.6500</td>\n",
              "      <td>1042.6500</td>\n",
              "      <td>6</td>\n",
              "      <td>2019-02-15</td>\n",
              "      <td>14:53:00</td>\n",
              "      <td>Credit card</td>\n",
              "      <td>993.00</td>\n",
              "      <td>4.761905</td>\n",
              "      <td>49.6500</td>\n",
              "      <td>6.6</td>\n",
              "    </tr>\n",
              "    <tr>\n",
              "      <th>1</th>\n",
              "      <td>226-31-3081</td>\n",
              "      <td>C</td>\n",
              "      <td>Naypyitaw</td>\n",
              "      <td>Normal</td>\n",
              "      <td>Female</td>\n",
              "      <td>Electronic accessories</td>\n",
              "      <td>15.28</td>\n",
              "      <td>5</td>\n",
              "      <td>3.8200</td>\n",
              "      <td>80.2200</td>\n",
              "      <td>6</td>\n",
              "      <td>2019-03-08</td>\n",
              "      <td>10:29:00</td>\n",
              "      <td>Cash</td>\n",
              "      <td>76.40</td>\n",
              "      <td>4.761905</td>\n",
              "      <td>3.8200</td>\n",
              "      <td>9.6</td>\n",
              "    </tr>\n",
              "    <tr>\n",
              "      <th>2</th>\n",
              "      <td>631-41-3108</td>\n",
              "      <td>A</td>\n",
              "      <td>Yangon</td>\n",
              "      <td>Normal</td>\n",
              "      <td>Male</td>\n",
              "      <td>Home and lifestyle</td>\n",
              "      <td>46.33</td>\n",
              "      <td>7</td>\n",
              "      <td>16.2155</td>\n",
              "      <td>340.5255</td>\n",
              "      <td>1</td>\n",
              "      <td>2019-03-03</td>\n",
              "      <td>13:23:00</td>\n",
              "      <td>Credit card</td>\n",
              "      <td>324.31</td>\n",
              "      <td>4.761905</td>\n",
              "      <td>16.2155</td>\n",
              "      <td>7.4</td>\n",
              "    </tr>\n",
              "    <tr>\n",
              "      <th>3</th>\n",
              "      <td>687-47-8271</td>\n",
              "      <td>A</td>\n",
              "      <td>Yangon</td>\n",
              "      <td>Normal</td>\n",
              "      <td>Male</td>\n",
              "      <td>Fashion accessories</td>\n",
              "      <td>98.98</td>\n",
              "      <td>10</td>\n",
              "      <td>49.4900</td>\n",
              "      <td>1039.2900</td>\n",
              "      <td>6</td>\n",
              "      <td>2019-02-08</td>\n",
              "      <td>16:20:00</td>\n",
              "      <td>Credit card</td>\n",
              "      <td>989.80</td>\n",
              "      <td>4.761905</td>\n",
              "      <td>49.4900</td>\n",
              "      <td>8.7</td>\n",
              "    </tr>\n",
              "    <tr>\n",
              "      <th>4</th>\n",
              "      <td>283-26-5248</td>\n",
              "      <td>C</td>\n",
              "      <td>Naypyitaw</td>\n",
              "      <td>Member</td>\n",
              "      <td>Female</td>\n",
              "      <td>Food and beverages</td>\n",
              "      <td>98.52</td>\n",
              "      <td>10</td>\n",
              "      <td>49.2600</td>\n",
              "      <td>1034.4600</td>\n",
              "      <td>4</td>\n",
              "      <td>2019-01-30</td>\n",
              "      <td>20:23:00</td>\n",
              "      <td>Ewallet</td>\n",
              "      <td>985.20</td>\n",
              "      <td>4.761905</td>\n",
              "      <td>49.2600</td>\n",
              "      <td>4.5</td>\n",
              "    </tr>\n",
              "    <tr>\n",
              "      <th>...</th>\n",
              "      <td>...</td>\n",
              "      <td>...</td>\n",
              "      <td>...</td>\n",
              "      <td>...</td>\n",
              "      <td>...</td>\n",
              "      <td>...</td>\n",
              "      <td>...</td>\n",
              "      <td>...</td>\n",
              "      <td>...</td>\n",
              "      <td>...</td>\n",
              "      <td>...</td>\n",
              "      <td>...</td>\n",
              "      <td>...</td>\n",
              "      <td>...</td>\n",
              "      <td>...</td>\n",
              "      <td>...</td>\n",
              "      <td>...</td>\n",
              "      <td>...</td>\n",
              "    </tr>\n",
              "    <tr>\n",
              "      <th>995</th>\n",
              "      <td>236-86-3015</td>\n",
              "      <td>C</td>\n",
              "      <td>Naypyitaw</td>\n",
              "      <td>Member</td>\n",
              "      <td>Male</td>\n",
              "      <td>Home and lifestyle</td>\n",
              "      <td>13.98</td>\n",
              "      <td>1</td>\n",
              "      <td>0.6990</td>\n",
              "      <td>14.6790</td>\n",
              "      <td>2</td>\n",
              "      <td>2019-02-04</td>\n",
              "      <td>13:38:00</td>\n",
              "      <td>Ewallet</td>\n",
              "      <td>13.98</td>\n",
              "      <td>4.761905</td>\n",
              "      <td>0.6990</td>\n",
              "      <td>9.8</td>\n",
              "    </tr>\n",
              "    <tr>\n",
              "      <th>996</th>\n",
              "      <td>192-98-7397</td>\n",
              "      <td>C</td>\n",
              "      <td>Naypyitaw</td>\n",
              "      <td>Normal</td>\n",
              "      <td>Male</td>\n",
              "      <td>Fashion accessories</td>\n",
              "      <td>12.78</td>\n",
              "      <td>1</td>\n",
              "      <td>0.6390</td>\n",
              "      <td>13.4190</td>\n",
              "      <td>3</td>\n",
              "      <td>2019-01-08</td>\n",
              "      <td>14:11:00</td>\n",
              "      <td>Ewallet</td>\n",
              "      <td>12.78</td>\n",
              "      <td>4.761905</td>\n",
              "      <td>0.6390</td>\n",
              "      <td>9.5</td>\n",
              "    </tr>\n",
              "    <tr>\n",
              "      <th>997</th>\n",
              "      <td>279-62-1445</td>\n",
              "      <td>C</td>\n",
              "      <td>Naypyitaw</td>\n",
              "      <td>Member</td>\n",
              "      <td>Female</td>\n",
              "      <td>Fashion accessories</td>\n",
              "      <td>12.54</td>\n",
              "      <td>1</td>\n",
              "      <td>0.6270</td>\n",
              "      <td>13.1670</td>\n",
              "      <td>5</td>\n",
              "      <td>2019-02-21</td>\n",
              "      <td>12:38:00</td>\n",
              "      <td>Cash</td>\n",
              "      <td>12.54</td>\n",
              "      <td>4.761905</td>\n",
              "      <td>0.6270</td>\n",
              "      <td>8.2</td>\n",
              "    </tr>\n",
              "    <tr>\n",
              "      <th>998</th>\n",
              "      <td>308-39-1707</td>\n",
              "      <td>A</td>\n",
              "      <td>Yangon</td>\n",
              "      <td>Normal</td>\n",
              "      <td>Female</td>\n",
              "      <td>Fashion accessories</td>\n",
              "      <td>12.09</td>\n",
              "      <td>1</td>\n",
              "      <td>0.6045</td>\n",
              "      <td>12.6945</td>\n",
              "      <td>7</td>\n",
              "      <td>2019-01-26</td>\n",
              "      <td>18:19:00</td>\n",
              "      <td>Credit card</td>\n",
              "      <td>12.09</td>\n",
              "      <td>4.761905</td>\n",
              "      <td>0.6045</td>\n",
              "      <td>8.2</td>\n",
              "    </tr>\n",
              "    <tr>\n",
              "      <th>999</th>\n",
              "      <td>784-21-9238</td>\n",
              "      <td>C</td>\n",
              "      <td>Naypyitaw</td>\n",
              "      <td>Member</td>\n",
              "      <td>Male</td>\n",
              "      <td>Sports and travel</td>\n",
              "      <td>10.17</td>\n",
              "      <td>1</td>\n",
              "      <td>0.5085</td>\n",
              "      <td>10.6785</td>\n",
              "      <td>5</td>\n",
              "      <td>2019-02-07</td>\n",
              "      <td>14:15:00</td>\n",
              "      <td>Cash</td>\n",
              "      <td>10.17</td>\n",
              "      <td>4.761905</td>\n",
              "      <td>0.5085</td>\n",
              "      <td>5.9</td>\n",
              "    </tr>\n",
              "  </tbody>\n",
              "</table>\n",
              "<p>1000 rows × 18 columns</p>\n",
              "</div>"
            ],
            "text/plain": [
              "      Invoice ID Branch  ... gross income Rating\n",
              "0    860-79-0874      C  ...      49.6500    6.6\n",
              "1    226-31-3081      C  ...       3.8200    9.6\n",
              "2    631-41-3108      A  ...      16.2155    7.4\n",
              "3    687-47-8271      A  ...      49.4900    8.7\n",
              "4    283-26-5248      C  ...      49.2600    4.5\n",
              "..           ...    ...  ...          ...    ...\n",
              "995  236-86-3015      C  ...       0.6990    9.8\n",
              "996  192-98-7397      C  ...       0.6390    9.5\n",
              "997  279-62-1445      C  ...       0.6270    8.2\n",
              "998  308-39-1707      A  ...       0.6045    8.2\n",
              "999  784-21-9238      C  ...       0.5085    5.9\n",
              "\n",
              "[1000 rows x 18 columns]"
            ]
          },
          "metadata": {},
          "execution_count": 13
        }
      ]
    },
    {
      "cell_type": "markdown",
      "metadata": {
        "id": "Wz6ydPiTGQ1V"
      },
      "source": [
        "1 Perform basic analysis and comment on\n",
        "      Shape\n",
        "     Dtype  \n",
        "     Check for missing values and its treatment"
      ]
    },
    {
      "cell_type": "code",
      "metadata": {
        "colab": {
          "base_uri": "https://localhost:8080/"
        },
        "id": "b3pwARR1yDmd",
        "outputId": "ea07a210-1c1d-4f5b-dba8-9c1be75b7f49"
      },
      "source": [
        "df.shape"
      ],
      "execution_count": 14,
      "outputs": [
        {
          "output_type": "execute_result",
          "data": {
            "text/plain": [
              "(1000, 18)"
            ]
          },
          "metadata": {},
          "execution_count": 14
        }
      ]
    },
    {
      "cell_type": "code",
      "metadata": {
        "colab": {
          "base_uri": "https://localhost:8080/"
        },
        "id": "0hSGaugnIK-B",
        "outputId": "328412d3-1c22-45f1-977d-ee59f0145a97"
      },
      "source": [
        "df.info"
      ],
      "execution_count": null,
      "outputs": [
        {
          "output_type": "stream",
          "name": "stdout",
          "text": [
            "<class 'pandas.core.frame.DataFrame'>\n",
            "RangeIndex: 1000 entries, 0 to 999\n",
            "Data columns (total 18 columns):\n",
            " #   Column                   Non-Null Count  Dtype         \n",
            "---  ------                   --------------  -----         \n",
            " 0   Invoice ID               1000 non-null   object        \n",
            " 1   Branch                   1000 non-null   object        \n",
            " 2   City                     1000 non-null   object        \n",
            " 3   Customer type            1000 non-null   object        \n",
            " 4   Gender                   1000 non-null   object        \n",
            " 5   Product line             1000 non-null   object        \n",
            " 6   Unit price               1000 non-null   float64       \n",
            " 7   Quantity                 1000 non-null   int64         \n",
            " 8   Tax 5%                   1000 non-null   float64       \n",
            " 9   Total                    1000 non-null   float64       \n",
            " 10  Day                      1000 non-null   int64         \n",
            " 11  Date                     1000 non-null   datetime64[ns]\n",
            " 12  Time                     1000 non-null   object        \n",
            " 13  Payment                  1000 non-null   object        \n",
            " 14  cogs                     1000 non-null   float64       \n",
            " 15  gross margin percentage  1000 non-null   float64       \n",
            " 16  gross income             1000 non-null   float64       \n",
            " 17  Rating                   1000 non-null   float64       \n",
            "dtypes: datetime64[ns](1), float64(7), int64(2), object(8)\n",
            "memory usage: 140.8+ KB\n"
          ]
        }
      ]
    },
    {
      "cell_type": "code",
      "metadata": {
        "colab": {
          "base_uri": "https://localhost:8080/",
          "height": 473
        },
        "id": "1QJ4jokyMKvW",
        "outputId": "431e2add-2dc5-48a3-d03f-57e162194daa"
      },
      "source": [
        "df.notnull()"
      ],
      "execution_count": null,
      "outputs": [
        {
          "output_type": "execute_result",
          "data": {
            "text/html": [
              "<div>\n",
              "<style scoped>\n",
              "    .dataframe tbody tr th:only-of-type {\n",
              "        vertical-align: middle;\n",
              "    }\n",
              "\n",
              "    .dataframe tbody tr th {\n",
              "        vertical-align: top;\n",
              "    }\n",
              "\n",
              "    .dataframe thead th {\n",
              "        text-align: right;\n",
              "    }\n",
              "</style>\n",
              "<table border=\"1\" class=\"dataframe\">\n",
              "  <thead>\n",
              "    <tr style=\"text-align: right;\">\n",
              "      <th></th>\n",
              "      <th>Invoice ID</th>\n",
              "      <th>Branch</th>\n",
              "      <th>City</th>\n",
              "      <th>Customer type</th>\n",
              "      <th>Gender</th>\n",
              "      <th>Product line</th>\n",
              "      <th>Unit price</th>\n",
              "      <th>Quantity</th>\n",
              "      <th>Tax 5%</th>\n",
              "      <th>Total</th>\n",
              "      <th>Day</th>\n",
              "      <th>Date</th>\n",
              "      <th>Time</th>\n",
              "      <th>Payment</th>\n",
              "      <th>cogs</th>\n",
              "      <th>gross margin percentage</th>\n",
              "      <th>gross income</th>\n",
              "      <th>Rating</th>\n",
              "    </tr>\n",
              "  </thead>\n",
              "  <tbody>\n",
              "    <tr>\n",
              "      <th>0</th>\n",
              "      <td>True</td>\n",
              "      <td>True</td>\n",
              "      <td>True</td>\n",
              "      <td>True</td>\n",
              "      <td>True</td>\n",
              "      <td>True</td>\n",
              "      <td>True</td>\n",
              "      <td>True</td>\n",
              "      <td>True</td>\n",
              "      <td>True</td>\n",
              "      <td>True</td>\n",
              "      <td>True</td>\n",
              "      <td>True</td>\n",
              "      <td>True</td>\n",
              "      <td>True</td>\n",
              "      <td>True</td>\n",
              "      <td>True</td>\n",
              "      <td>True</td>\n",
              "    </tr>\n",
              "    <tr>\n",
              "      <th>1</th>\n",
              "      <td>True</td>\n",
              "      <td>True</td>\n",
              "      <td>True</td>\n",
              "      <td>True</td>\n",
              "      <td>True</td>\n",
              "      <td>True</td>\n",
              "      <td>True</td>\n",
              "      <td>True</td>\n",
              "      <td>True</td>\n",
              "      <td>True</td>\n",
              "      <td>True</td>\n",
              "      <td>True</td>\n",
              "      <td>True</td>\n",
              "      <td>True</td>\n",
              "      <td>True</td>\n",
              "      <td>True</td>\n",
              "      <td>True</td>\n",
              "      <td>True</td>\n",
              "    </tr>\n",
              "    <tr>\n",
              "      <th>2</th>\n",
              "      <td>True</td>\n",
              "      <td>True</td>\n",
              "      <td>True</td>\n",
              "      <td>True</td>\n",
              "      <td>True</td>\n",
              "      <td>True</td>\n",
              "      <td>True</td>\n",
              "      <td>True</td>\n",
              "      <td>True</td>\n",
              "      <td>True</td>\n",
              "      <td>True</td>\n",
              "      <td>True</td>\n",
              "      <td>True</td>\n",
              "      <td>True</td>\n",
              "      <td>True</td>\n",
              "      <td>True</td>\n",
              "      <td>True</td>\n",
              "      <td>True</td>\n",
              "    </tr>\n",
              "    <tr>\n",
              "      <th>3</th>\n",
              "      <td>True</td>\n",
              "      <td>True</td>\n",
              "      <td>True</td>\n",
              "      <td>True</td>\n",
              "      <td>True</td>\n",
              "      <td>True</td>\n",
              "      <td>True</td>\n",
              "      <td>True</td>\n",
              "      <td>True</td>\n",
              "      <td>True</td>\n",
              "      <td>True</td>\n",
              "      <td>True</td>\n",
              "      <td>True</td>\n",
              "      <td>True</td>\n",
              "      <td>True</td>\n",
              "      <td>True</td>\n",
              "      <td>True</td>\n",
              "      <td>True</td>\n",
              "    </tr>\n",
              "    <tr>\n",
              "      <th>4</th>\n",
              "      <td>True</td>\n",
              "      <td>True</td>\n",
              "      <td>True</td>\n",
              "      <td>True</td>\n",
              "      <td>True</td>\n",
              "      <td>True</td>\n",
              "      <td>True</td>\n",
              "      <td>True</td>\n",
              "      <td>True</td>\n",
              "      <td>True</td>\n",
              "      <td>True</td>\n",
              "      <td>True</td>\n",
              "      <td>True</td>\n",
              "      <td>True</td>\n",
              "      <td>True</td>\n",
              "      <td>True</td>\n",
              "      <td>True</td>\n",
              "      <td>True</td>\n",
              "    </tr>\n",
              "    <tr>\n",
              "      <th>...</th>\n",
              "      <td>...</td>\n",
              "      <td>...</td>\n",
              "      <td>...</td>\n",
              "      <td>...</td>\n",
              "      <td>...</td>\n",
              "      <td>...</td>\n",
              "      <td>...</td>\n",
              "      <td>...</td>\n",
              "      <td>...</td>\n",
              "      <td>...</td>\n",
              "      <td>...</td>\n",
              "      <td>...</td>\n",
              "      <td>...</td>\n",
              "      <td>...</td>\n",
              "      <td>...</td>\n",
              "      <td>...</td>\n",
              "      <td>...</td>\n",
              "      <td>...</td>\n",
              "    </tr>\n",
              "    <tr>\n",
              "      <th>995</th>\n",
              "      <td>True</td>\n",
              "      <td>True</td>\n",
              "      <td>True</td>\n",
              "      <td>True</td>\n",
              "      <td>True</td>\n",
              "      <td>True</td>\n",
              "      <td>True</td>\n",
              "      <td>True</td>\n",
              "      <td>True</td>\n",
              "      <td>True</td>\n",
              "      <td>True</td>\n",
              "      <td>True</td>\n",
              "      <td>True</td>\n",
              "      <td>True</td>\n",
              "      <td>True</td>\n",
              "      <td>True</td>\n",
              "      <td>True</td>\n",
              "      <td>True</td>\n",
              "    </tr>\n",
              "    <tr>\n",
              "      <th>996</th>\n",
              "      <td>True</td>\n",
              "      <td>True</td>\n",
              "      <td>True</td>\n",
              "      <td>True</td>\n",
              "      <td>True</td>\n",
              "      <td>True</td>\n",
              "      <td>True</td>\n",
              "      <td>True</td>\n",
              "      <td>True</td>\n",
              "      <td>True</td>\n",
              "      <td>True</td>\n",
              "      <td>True</td>\n",
              "      <td>True</td>\n",
              "      <td>True</td>\n",
              "      <td>True</td>\n",
              "      <td>True</td>\n",
              "      <td>True</td>\n",
              "      <td>True</td>\n",
              "    </tr>\n",
              "    <tr>\n",
              "      <th>997</th>\n",
              "      <td>True</td>\n",
              "      <td>True</td>\n",
              "      <td>True</td>\n",
              "      <td>True</td>\n",
              "      <td>True</td>\n",
              "      <td>True</td>\n",
              "      <td>True</td>\n",
              "      <td>True</td>\n",
              "      <td>True</td>\n",
              "      <td>True</td>\n",
              "      <td>True</td>\n",
              "      <td>True</td>\n",
              "      <td>True</td>\n",
              "      <td>True</td>\n",
              "      <td>True</td>\n",
              "      <td>True</td>\n",
              "      <td>True</td>\n",
              "      <td>True</td>\n",
              "    </tr>\n",
              "    <tr>\n",
              "      <th>998</th>\n",
              "      <td>True</td>\n",
              "      <td>True</td>\n",
              "      <td>True</td>\n",
              "      <td>True</td>\n",
              "      <td>True</td>\n",
              "      <td>True</td>\n",
              "      <td>True</td>\n",
              "      <td>True</td>\n",
              "      <td>True</td>\n",
              "      <td>True</td>\n",
              "      <td>True</td>\n",
              "      <td>True</td>\n",
              "      <td>True</td>\n",
              "      <td>True</td>\n",
              "      <td>True</td>\n",
              "      <td>True</td>\n",
              "      <td>True</td>\n",
              "      <td>True</td>\n",
              "    </tr>\n",
              "    <tr>\n",
              "      <th>999</th>\n",
              "      <td>True</td>\n",
              "      <td>True</td>\n",
              "      <td>True</td>\n",
              "      <td>True</td>\n",
              "      <td>True</td>\n",
              "      <td>True</td>\n",
              "      <td>True</td>\n",
              "      <td>True</td>\n",
              "      <td>True</td>\n",
              "      <td>True</td>\n",
              "      <td>True</td>\n",
              "      <td>True</td>\n",
              "      <td>True</td>\n",
              "      <td>True</td>\n",
              "      <td>True</td>\n",
              "      <td>True</td>\n",
              "      <td>True</td>\n",
              "      <td>True</td>\n",
              "    </tr>\n",
              "  </tbody>\n",
              "</table>\n",
              "<p>1000 rows × 18 columns</p>\n",
              "</div>"
            ],
            "text/plain": [
              "     Invoice ID  Branch  City  ...  gross margin percentage  gross income  Rating\n",
              "0          True    True  True  ...                     True          True    True\n",
              "1          True    True  True  ...                     True          True    True\n",
              "2          True    True  True  ...                     True          True    True\n",
              "3          True    True  True  ...                     True          True    True\n",
              "4          True    True  True  ...                     True          True    True\n",
              "..          ...     ...   ...  ...                      ...           ...     ...\n",
              "995        True    True  True  ...                     True          True    True\n",
              "996        True    True  True  ...                     True          True    True\n",
              "997        True    True  True  ...                     True          True    True\n",
              "998        True    True  True  ...                     True          True    True\n",
              "999        True    True  True  ...                     True          True    True\n",
              "\n",
              "[1000 rows x 18 columns]"
            ]
          },
          "metadata": {},
          "execution_count": 4
        }
      ]
    },
    {
      "cell_type": "markdown",
      "metadata": {
        "id": "l5hMKB-BGlxI"
      },
      "source": [
        "2 Customer type                      \n",
        "      Gender\n",
        "      Product Line\n",
        "      Day (1=Sunday, 2=Monday and so on)\n",
        "      Payment"
      ]
    },
    {
      "cell_type": "code",
      "metadata": {
        "colab": {
          "base_uri": "https://localhost:8080/"
        },
        "id": "3gBWVwjVOW3o",
        "outputId": "ffbb8fad-73e0-4465-9f2f-fb177bde2daf"
      },
      "source": [
        "print(\"total count in branch: \",df['Branch'].value_counts().sum())\n",
        "print(\"individual count in branch: \",df['Branch'].value_counts())"
      ],
      "execution_count": null,
      "outputs": [
        {
          "output_type": "stream",
          "name": "stdout",
          "text": [
            "total count in branch:  1000\n",
            "individual count in branch:  A    340\n",
            "B    332\n",
            "C    328\n",
            "Name: Branch, dtype: int64\n"
          ]
        }
      ]
    },
    {
      "cell_type": "code",
      "metadata": {
        "colab": {
          "base_uri": "https://localhost:8080/"
        },
        "id": "Gu_wr_yhO_3-",
        "outputId": "840b276f-da7f-46dd-d056-7b7b0b517619"
      },
      "source": [
        "print(\"total count in City: \",df['City'].value_counts().sum())\n",
        "print(\"individual count in City: \",df['City'].value_counts())"
      ],
      "execution_count": null,
      "outputs": [
        {
          "output_type": "stream",
          "name": "stdout",
          "text": [
            "total count in City:  1000\n",
            "individual count in City:  Yangon       340\n",
            "Mandalay     332\n",
            "Naypyitaw    328\n",
            "Name: City, dtype: int64\n"
          ]
        }
      ]
    },
    {
      "cell_type": "code",
      "metadata": {
        "colab": {
          "base_uri": "https://localhost:8080/"
        },
        "id": "PQ9ZxptqPmtI",
        "outputId": "f2d74cd6-7a20-4cdc-a111-4fbfc63474d5"
      },
      "source": [
        "print(\"total count in Customer type: \",df['Customer type'].value_counts().sum())\n",
        "print(\"individual count in Customer type: \",df['Customer type'].value_counts())"
      ],
      "execution_count": null,
      "outputs": [
        {
          "output_type": "stream",
          "name": "stdout",
          "text": [
            "total count in Customer type:  1000\n",
            "individual count in Customer type:  Member    501\n",
            "Normal    499\n",
            "Name: Customer type, dtype: int64\n"
          ]
        }
      ]
    },
    {
      "cell_type": "code",
      "metadata": {
        "id": "yNFwgoiKqDLY",
        "colab": {
          "base_uri": "https://localhost:8080/"
        },
        "outputId": "5e8a8d68-003c-46e8-e848-4b1226d8de6f"
      },
      "source": [
        "print(\"total count in Gender: \",df['Gender'].value_counts().sum())\n",
        "print(\"individual count in Gender: \",df['Gender'].value_counts())"
      ],
      "execution_count": null,
      "outputs": [
        {
          "output_type": "stream",
          "name": "stdout",
          "text": [
            "total count in Gender:  1000\n",
            "individual count in Gender:  Female    501\n",
            "Male      499\n",
            "Name: Gender, dtype: int64\n"
          ]
        }
      ]
    },
    {
      "cell_type": "code",
      "metadata": {
        "colab": {
          "base_uri": "https://localhost:8080/"
        },
        "id": "OapZPaae2F1D",
        "outputId": "64e9c1bd-b517-4af1-a4ad-7b0ec59dbaf7"
      },
      "source": [
        "print(\"total count in Product line: \",df['Product line'].value_counts().sum())\n",
        "print(\"individual count in Product Line: \",df['Product line'].value_counts())"
      ],
      "execution_count": null,
      "outputs": [
        {
          "output_type": "stream",
          "name": "stdout",
          "text": [
            "total count in Product line:  1000\n",
            "individual count in Product Line:  Fashion accessories       178\n",
            "Food and beverages        174\n",
            "Electronic accessories    170\n",
            "Sports and travel         166\n",
            "Home and lifestyle        160\n",
            "Health and beauty         152\n",
            "Name: Product line, dtype: int64\n"
          ]
        }
      ]
    },
    {
      "cell_type": "code",
      "metadata": {
        "colab": {
          "base_uri": "https://localhost:8080/"
        },
        "id": "SC_OXzMoFiBm",
        "outputId": "00bfc0b4-8b81-44e2-d602-1b893c0d698c"
      },
      "source": [
        "print(\"total count in Payment\t: \",df['Payment'].value_counts().sum())\n",
        "print(\"individual count in Payment: \",df['Payment'].value_counts())"
      ],
      "execution_count": null,
      "outputs": [
        {
          "output_type": "stream",
          "name": "stdout",
          "text": [
            "total count in Payment\t:  1000\n",
            "individual count in Payment:  Ewallet        345\n",
            "Cash           344\n",
            "Credit card    311\n",
            "Name: Payment, dtype: int64\n"
          ]
        }
      ]
    },
    {
      "cell_type": "code",
      "metadata": {
        "id": "jgCUrTfbF7BF"
      },
      "source": [
        "df[\"Day\"].replace(to_replace=[1,2,3,4,5,6,7],value=['Sunday','Monday','Tuesday','Wednesday','Thursday','Friday','Saturday'],inplace=True)"
      ],
      "execution_count": 18,
      "outputs": []
    },
    {
      "cell_type": "code",
      "metadata": {
        "colab": {
          "base_uri": "https://localhost:8080/"
        },
        "id": "0oeXdDZ2HzEi",
        "outputId": "9a681d66-c958-4325-c119-3f7667117b98"
      },
      "source": [
        "print(\"total count in Day\t: \",df['Day'].value_counts().sum())\n",
        "print(\"individual count in Day: \\n \",df['Day'].value_counts())"
      ],
      "execution_count": 20,
      "outputs": [
        {
          "output_type": "stream",
          "name": "stdout",
          "text": [
            "total count in Day\t:  1000\n",
            "individual count in Day: \n",
            "  Saturday     164\n",
            "Tuesday      158\n",
            "Wednesday    143\n",
            "Friday       139\n",
            "Thursday     138\n",
            "Sunday       133\n",
            "Monday       125\n",
            "Name: Day, dtype: int64\n"
          ]
        }
      ]
    },
    {
      "cell_type": "code",
      "metadata": {
        "id": "9-CZYZJvMLh_",
        "colab": {
          "base_uri": "https://localhost:8080/",
          "height": 156
        },
        "outputId": "a7287cbb-0271-4b22-8d9e-2f87d784a635"
      },
      "source": [
        "# 4. Branch location in city\n",
        "df1=df[['Branch','City']]\n",
        "br=df1.groupby(['Branch','City']).sum()\n",
        "br"
      ],
      "execution_count": 22,
      "outputs": [
        {
          "output_type": "execute_result",
          "data": {
            "text/html": [
              "<div>\n",
              "<style scoped>\n",
              "    .dataframe tbody tr th:only-of-type {\n",
              "        vertical-align: middle;\n",
              "    }\n",
              "\n",
              "    .dataframe tbody tr th {\n",
              "        vertical-align: top;\n",
              "    }\n",
              "\n",
              "    .dataframe thead th {\n",
              "        text-align: right;\n",
              "    }\n",
              "</style>\n",
              "<table border=\"1\" class=\"dataframe\">\n",
              "  <thead>\n",
              "    <tr style=\"text-align: right;\">\n",
              "      <th></th>\n",
              "      <th></th>\n",
              "    </tr>\n",
              "    <tr>\n",
              "      <th>Branch</th>\n",
              "      <th>City</th>\n",
              "    </tr>\n",
              "  </thead>\n",
              "  <tbody>\n",
              "    <tr>\n",
              "      <th>A</th>\n",
              "      <th>Yangon</th>\n",
              "    </tr>\n",
              "    <tr>\n",
              "      <th>B</th>\n",
              "      <th>Mandalay</th>\n",
              "    </tr>\n",
              "    <tr>\n",
              "      <th>C</th>\n",
              "      <th>Naypyitaw</th>\n",
              "    </tr>\n",
              "  </tbody>\n",
              "</table>\n",
              "</div>"
            ],
            "text/plain": [
              "Empty DataFrame\n",
              "Columns: []\n",
              "Index: [(A, Yangon), (B, Mandalay), (C, Naypyitaw)]"
            ]
          },
          "metadata": {},
          "execution_count": 22
        }
      ]
    },
    {
      "cell_type": "code",
      "metadata": {
        "colab": {
          "base_uri": "https://localhost:8080/"
        },
        "id": "jpabG0_xiNIs",
        "outputId": "bc56f6ab-d142-4d94-c1f0-4480fe7bcd62"
      },
      "source": [
        " #3. Total Sale Amount and % of contribution\n",
        "print(\"Total Amount = \",df['Total'].sum())\n",
        "print(\"\\n% Contributed by men = \",499/1000,\"%\")\n",
        "print(\"\\n% Contributed by women = \",501/1000,\"%\")"
      ],
      "execution_count": 26,
      "outputs": [
        {
          "output_type": "stream",
          "name": "stdout",
          "text": [
            "Total Amount =  322966.74899999995\n",
            "\n",
            "% Contributed by men =  0.499 %\n",
            "\n",
            "% Contributed by women =  0.501 %\n"
          ]
        }
      ]
    },
    {
      "cell_type": "markdown",
      "metadata": {
        "id": "jPTatlJNJnDJ"
      },
      "source": [
        "5 city wise sales amount."
      ]
    },
    {
      "cell_type": "code",
      "metadata": {
        "colab": {
          "base_uri": "https://localhost:8080/",
          "height": 173
        },
        "id": "7xnTXN3F5_uR",
        "outputId": "e47f7660-391d-446d-92b3-50df9b88ce06"
      },
      "source": [
        "df_groupby_2=df[['City','Total']]\n",
        "city_sale=ds_groupby_2.groupby(by='City').sum()\n",
        "city_sale"
      ],
      "execution_count": 23,
      "outputs": [
        {
          "output_type": "execute_result",
          "data": {
            "text/html": [
              "<div>\n",
              "<style scoped>\n",
              "    .dataframe tbody tr th:only-of-type {\n",
              "        vertical-align: middle;\n",
              "    }\n",
              "\n",
              "    .dataframe tbody tr th {\n",
              "        vertical-align: top;\n",
              "    }\n",
              "\n",
              "    .dataframe thead th {\n",
              "        text-align: right;\n",
              "    }\n",
              "</style>\n",
              "<table border=\"1\" class=\"dataframe\">\n",
              "  <thead>\n",
              "    <tr style=\"text-align: right;\">\n",
              "      <th></th>\n",
              "      <th>Total</th>\n",
              "    </tr>\n",
              "    <tr>\n",
              "      <th>City</th>\n",
              "      <th></th>\n",
              "    </tr>\n",
              "  </thead>\n",
              "  <tbody>\n",
              "    <tr>\n",
              "      <th>Mandalay</th>\n",
              "      <td>106197.6720</td>\n",
              "    </tr>\n",
              "    <tr>\n",
              "      <th>Naypyitaw</th>\n",
              "      <td>110568.7065</td>\n",
              "    </tr>\n",
              "    <tr>\n",
              "      <th>Yangon</th>\n",
              "      <td>106200.3705</td>\n",
              "    </tr>\n",
              "  </tbody>\n",
              "</table>\n",
              "</div>"
            ],
            "text/plain": [
              "                 Total\n",
              "City                  \n",
              "Mandalay   106197.6720\n",
              "Naypyitaw  110568.7065\n",
              "Yangon     106200.3705"
            ]
          },
          "metadata": {},
          "execution_count": 23
        }
      ]
    },
    {
      "cell_type": "markdown",
      "metadata": {
        "id": "-OX7lu1qKsgW"
      },
      "source": [
        "\n",
        "\tIn which city sale was maximum\n",
        "\n",
        "\n"
      ]
    },
    {
      "cell_type": "code",
      "metadata": {
        "colab": {
          "base_uri": "https://localhost:8080/"
        },
        "id": "_z0TprFG6cuT",
        "outputId": "e81e2fb6-7ea2-4ec7-da35-74c2abf94ded"
      },
      "source": [
        "city_sale.max()"
      ],
      "execution_count": 24,
      "outputs": [
        {
          "output_type": "execute_result",
          "data": {
            "text/plain": [
              "Total    110568.7065\n",
              "dtype: float64"
            ]
          },
          "metadata": {},
          "execution_count": 24
        }
      ]
    },
    {
      "cell_type": "markdown",
      "metadata": {
        "id": "cwUxdn0_Ldu5"
      },
      "source": [
        "\tIn which city sale was minimum\n",
        "\n"
      ]
    },
    {
      "cell_type": "code",
      "metadata": {
        "colab": {
          "base_uri": "https://localhost:8080/"
        },
        "id": "TEzAAwkD6nbS",
        "outputId": "dd829be9-518a-4ef6-9519-3fdce05f3875"
      },
      "source": [
        "df_city_sale.min()"
      ],
      "execution_count": null,
      "outputs": [
        {
          "output_type": "execute_result",
          "data": {
            "text/plain": [
              "Total    106197.672\n",
              "dtype: float64"
            ]
          },
          "metadata": {},
          "execution_count": 9
        }
      ]
    },
    {
      "cell_type": "code",
      "metadata": {
        "colab": {
          "base_uri": "https://localhost:8080/"
        },
        "id": "oCgHKkdR6rvk",
        "outputId": "e11bb6c4-729f-4f6e-db03-18cc27db0cdd"
      },
      "source": [
        "#6 payment method is used maximum times by Male and Female\n",
        "groupby_3=df[['Gender','Payment']].value_counts()\n",
        "Max_Payment=groupby_3.groupby(['Gender','Payment']).sum()\n",
        "Max_Payment"
      ],
      "execution_count": 27,
      "outputs": [
        {
          "output_type": "execute_result",
          "data": {
            "text/plain": [
              "Gender  Payment    \n",
              "Female  Cash           178\n",
              "        Credit card    163\n",
              "        Ewallet        160\n",
              "Male    Cash           166\n",
              "        Credit card    148\n",
              "        Ewallet        185\n",
              "dtype: int64"
            ]
          },
          "metadata": {},
          "execution_count": 27
        }
      ]
    },
    {
      "cell_type": "code",
      "metadata": {
        "colab": {
          "base_uri": "https://localhost:8080/",
          "height": 297
        },
        "id": "QTyV-5Gm7QeZ",
        "outputId": "7b831905-8be0-49e5-d2a6-57a4f1c98f8b"
      },
      "source": [
        "#7 \tWhich Day of the week saw the maximum sale?\n",
        "       #Calculate sale for each Day\n",
        "       \n",
        "group1=df[['Day','Total']]\n",
        "sale=group1.groupby(by='Day').sum()\n",
        "sale"
      ],
      "execution_count": 30,
      "outputs": [
        {
          "output_type": "execute_result",
          "data": {
            "text/html": [
              "<div>\n",
              "<style scoped>\n",
              "    .dataframe tbody tr th:only-of-type {\n",
              "        vertical-align: middle;\n",
              "    }\n",
              "\n",
              "    .dataframe tbody tr th {\n",
              "        vertical-align: top;\n",
              "    }\n",
              "\n",
              "    .dataframe thead th {\n",
              "        text-align: right;\n",
              "    }\n",
              "</style>\n",
              "<table border=\"1\" class=\"dataframe\">\n",
              "  <thead>\n",
              "    <tr style=\"text-align: right;\">\n",
              "      <th></th>\n",
              "      <th>Total</th>\n",
              "    </tr>\n",
              "    <tr>\n",
              "      <th>Day</th>\n",
              "      <th></th>\n",
              "    </tr>\n",
              "  </thead>\n",
              "  <tbody>\n",
              "    <tr>\n",
              "      <th>Friday</th>\n",
              "      <td>43926.3405</td>\n",
              "    </tr>\n",
              "    <tr>\n",
              "      <th>Monday</th>\n",
              "      <td>37899.0780</td>\n",
              "    </tr>\n",
              "    <tr>\n",
              "      <th>Saturday</th>\n",
              "      <td>56120.8095</td>\n",
              "    </tr>\n",
              "    <tr>\n",
              "      <th>Sunday</th>\n",
              "      <td>44457.8925</td>\n",
              "    </tr>\n",
              "    <tr>\n",
              "      <th>Thursday</th>\n",
              "      <td>45349.2480</td>\n",
              "    </tr>\n",
              "    <tr>\n",
              "      <th>Tuesday</th>\n",
              "      <td>51482.2455</td>\n",
              "    </tr>\n",
              "    <tr>\n",
              "      <th>Wednesday</th>\n",
              "      <td>43731.1350</td>\n",
              "    </tr>\n",
              "  </tbody>\n",
              "</table>\n",
              "</div>"
            ],
            "text/plain": [
              "                Total\n",
              "Day                  \n",
              "Friday     43926.3405\n",
              "Monday     37899.0780\n",
              "Saturday   56120.8095\n",
              "Sunday     44457.8925\n",
              "Thursday   45349.2480\n",
              "Tuesday    51482.2455\n",
              "Wednesday  43731.1350"
            ]
          },
          "metadata": {},
          "execution_count": 30
        }
      ]
    },
    {
      "cell_type": "code",
      "metadata": {
        "colab": {
          "base_uri": "https://localhost:8080/"
        },
        "id": "o-jxe_zv7ce1",
        "outputId": "c48f196c-4082-406d-d4a3-95c2914bce71"
      },
      "source": [
        "sale.max()"
      ],
      "execution_count": 31,
      "outputs": [
        {
          "output_type": "execute_result",
          "data": {
            "text/plain": [
              "Total    56120.8095\n",
              "dtype: float64"
            ]
          },
          "metadata": {},
          "execution_count": 31
        }
      ]
    },
    {
      "cell_type": "markdown",
      "metadata": {
        "id": "ZcgzJ7dMNg1l"
      },
      "source": [
        "8   Tax did government collect?\n",
        "\n",
        "       Which city paid highest\n",
        "       Which city paid lowest tax"
      ]
    },
    {
      "cell_type": "code",
      "metadata": {
        "colab": {
          "base_uri": "https://localhost:8080/"
        },
        "id": "Ld8uUg4j7oci",
        "outputId": "a1a372a3-4f76-4b10-a16d-5756adb5cbcb"
      },
      "source": [
        "group_tax=df[['City','Tax 5%']]\n",
        "df_tax=group_tax.groupby(by='City').sum()\n",
        "print(\"City wise Total Tax : \\n\")\n",
        "print(df_tax)\n",
        "print('\\n The Total amount of tax collected in all cities is Rs. ',df_tax.sum())"
      ],
      "execution_count": 33,
      "outputs": [
        {
          "output_type": "stream",
          "name": "stdout",
          "text": [
            "City wise Total Tax : \n",
            "\n",
            "              Tax 5%\n",
            "City                \n",
            "Mandalay   5057.0320\n",
            "Naypyitaw  5265.1765\n",
            "Yangon     5057.1605\n",
            "\n",
            " The Total amount of tax collected in all cities is Rs.  Tax 5%    15379.369\n",
            "dtype: float64\n"
          ]
        }
      ]
    },
    {
      "cell_type": "code",
      "metadata": {
        "colab": {
          "base_uri": "https://localhost:8080/"
        },
        "id": "1uMh6Nzi8HGO",
        "outputId": "067725cd-2dac-4f8d-ff3b-3b8af0cfc1b4"
      },
      "source": [
        "df_tax.max()"
      ],
      "execution_count": null,
      "outputs": [
        {
          "output_type": "execute_result",
          "data": {
            "text/plain": [
              "Tax 5%    5265.1765\n",
              "dtype: float64"
            ]
          },
          "metadata": {},
          "execution_count": 21
        }
      ]
    },
    {
      "cell_type": "code",
      "metadata": {
        "colab": {
          "base_uri": "https://localhost:8080/"
        },
        "id": "CGXEvYxn8Lri",
        "outputId": "4f129570-f1b5-40a3-df02-286c78e951c1"
      },
      "source": [
        "df_tax.min()"
      ],
      "execution_count": null,
      "outputs": [
        {
          "output_type": "execute_result",
          "data": {
            "text/plain": [
              "Tax 5%    5057.032\n",
              "dtype: float64"
            ]
          },
          "metadata": {},
          "execution_count": 23
        }
      ]
    }
  ]
}